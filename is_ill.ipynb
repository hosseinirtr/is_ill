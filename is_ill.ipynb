{
 "cells": [
  {
   "cell_type": "code",
   "execution_count": 21,
   "id": "10303eb8",
   "metadata": {},
   "outputs": [],
   "source": [
    "import pandas as pd\n",
    "import numpy as np"
   ]
  },
  {
   "cell_type": "code",
   "execution_count": 22,
   "id": "18261728",
   "metadata": {},
   "outputs": [],
   "source": [
    "# randomly assign \"yes\" or \"no\" values\n",
    "def YesOrNo(size):\n",
    "    values =np.random.choice([\"yes\", \"no\"], size=size)  \n",
    "    return values"
   ]
  },
  {
   "cell_type": "code",
   "execution_count": 23,
   "id": "e1a2b2ad",
   "metadata": {},
   "outputs": [],
   "source": [
    "ages = np.random.randint(20, 60, size=100)  # generate 100 random ages between 20 and 60\n",
    "weights = np.random.uniform(50, 131, size=100)  # generate 100 random weights between 50 and 130 (Remember must be 1 more) kg\n",
    "heights = np.random.randint(150, 200, size=100)  # generate 100 random heights between 150 and 200\n",
    "genders = np.random.choice([\"men\", \"women\"], size=100)  # randomly assign \"men\" or \"women\" values\n",
    "smoking_status = YesOrNo(100)\n",
    "ill_status = YesOrNo(100)"
   ]
  },
  {
   "cell_type": "code",
   "execution_count": 41,
   "id": "d996a11e",
   "metadata": {},
   "outputs": [],
   "source": [
    "df = pd.DataFrame({\n",
    "    \"age\": ages,\n",
    "    \"weight\": weights,\n",
    "    \"height\": heights,\n",
    "    \"is_smoke\": smoking_status,\n",
    "    \"gender\": genders,\n",
    "    \"is_ill\": ill_status\n",
    "})"
   ]
  },
  {
   "cell_type": "code",
   "execution_count": 56,
   "id": "58afa963",
   "metadata": {},
   "outputs": [
    {
     "name": "stdout",
     "output_type": "stream",
     "text": [
      "0     1\n",
      "1     1\n",
      "2     1\n",
      "3     1\n",
      "4     1\n",
      "     ..\n",
      "95    0\n",
      "96    1\n",
      "97    1\n",
      "98    1\n",
      "99    0\n",
      "Name: gender, Length: 100, dtype: int64\n",
      "0     0\n",
      "1     1\n",
      "2     1\n",
      "3     0\n",
      "4     0\n",
      "     ..\n",
      "95    1\n",
      "96    0\n",
      "97    1\n",
      "98    0\n",
      "99    0\n",
      "Name: is_ill, Length: 100, dtype: int64\n"
     ]
    }
   ],
   "source": [
    "from sklearn.preprocessing import LabelEncoder\n",
    "\n",
    "# create a label encoder object\n",
    "le = LabelEncoder()\n",
    "\n",
    "# fit the label encoder to the \"gender\" column\n",
    "le.fit(df[\"gender\"])\n",
    "\n",
    "# transform the \"gender\" column using the label encoder\n",
    "df[\"gender\"] = le.transform(df[\"gender\"])\n",
    "\n",
    "# print the encoded column\n",
    "print(df[\"gender\"])\n",
    "\n",
    "\n",
    "# create a label encoder object\n",
    "le = LabelEncoder()\n",
    "\n",
    "# fit the label encoder to the \"is_smoke\" column\n",
    "le.fit(df[\"is_smoke\"])\n",
    "\n",
    "# transform the \"is_smoke\" column using the label encoder\n",
    "df[\"is_smoke\"] = le.transform(df[\"is_smoke\"])\n",
    "\n",
    "\n",
    "# create a label encoder object\n",
    "le = LabelEncoder()\n",
    "\n",
    "# fit the label encoder to the \"is_ill\" column\n",
    "le.fit(df[\"is_ill\"])\n",
    "\n",
    "# transform the \"is_smoke\" column using the label encoder\n",
    "df[\"is_ill\"] = le.transform(df[\"is_ill\"])\n",
    "\n",
    "\n",
    "# print the encoded column\n",
    "print(df[\"is_ill\"])"
   ]
  },
  {
   "cell_type": "code",
   "execution_count": 57,
   "id": "7082dab9",
   "metadata": {},
   "outputs": [
    {
     "data": {
      "image/png": "[encoded data removed]",
      "text/plain": [
       "<Figure size 432x288 with 1 Axes>"
      ]
     },
     "metadata": {
      "needs_background": "light"
     },
     "output_type": "display_data"
    }
   ],
   "source": [
    "import matplotlib.pyplot as plt\n",
    "\n",
    "df['age'].plot(kind='hist', bins=20)\n",
    "plt.xlabel('Age')\n",
    "plt.ylabel('Frequency')\n",
    "plt.show()\n"
   ]
  },
  {
   "cell_type": "code",
   "execution_count": 58,
   "id": "8676f7a7",
   "metadata": {},
   "outputs": [
    {
     "data": {
      "image/png": "[encoded data removed]",
      "text/plain": [
       "<Figure size 432x288 with 1 Axes>"
      ]
     },
     "metadata": {
      "needs_background": "light"
     },
     "output_type": "display_data"
    }
   ],
   "source": [
    "import seaborn as sns\n",
    "\n",
    "sns.scatterplot(x='age', y='weight', data=df)\n",
    "plt.show()\n"
   ]
  },
  {
   "cell_type": "code",
   "execution_count": 60,
   "id": "b97352b2",
   "metadata": {},
   "outputs": [
    {
     "data": {
      "image/png": "[encoded data removed]",
      "text/plain": [
       "<Figure size 432x288 with 1 Axes>"
      ]
     },
     "metadata": {
      "needs_background": "light"
     },
     "output_type": "display_data"
    }
   ],
   "source": [
    "sns.boxplot(x='is_smoke', y='age', data=df)\n",
    "plt.show()"
   ]
  },
  {
   "cell_type": "code",
   "execution_count": 62,
   "id": "24c26327",
   "metadata": {},
   "outputs": [
    {
     "name": "stdout",
     "output_type": "stream",
     "text": [
      "x is     age      weight  height  is_smoke  gender\n",
      "0    23   93.178591     183         0       1\n",
      "1    26   60.151713     153         0       1\n",
      "2    27   51.562413     164         0       1\n",
      "3    32   89.668633     171         1       1\n",
      "4    24   65.061397     181         0       1\n",
      "..  ...         ...     ...       ...     ...\n",
      "95   44   66.971448     198         1       0\n",
      "96   44  126.309545     156         0       1\n",
      "97   27  108.513593     159         0       1\n",
      "98   32   64.478363     172         1       1\n",
      "99   42   72.580648     191         1       0\n",
      "\n",
      "[100 rows x 5 columns]\n",
      "\n",
      " \n",
      " \n",
      " \n",
      "\n",
      "y is 0     0\n",
      "1     1\n",
      "2     1\n",
      "3     0\n",
      "4     0\n",
      "     ..\n",
      "95    1\n",
      "96    0\n",
      "97    1\n",
      "98    0\n",
      "99    0\n",
      "Name: is_ill, Length: 100, dtype: int64\n",
      "Mean squared error: 0.272295261965393\n"
     ]
    }
   ],
   "source": [
    "from sklearn.linear_model import LinearRegression\n",
    "from sklearn.model_selection import train_test_split\n",
    "from sklearn.metrics import mean_squared_error\n",
    "\n",
    "\n",
    "# define input features and target variable\n",
    "X = df[['age', 'weight', 'height', 'is_smoke', 'gender']]\n",
    "y = df['is_ill']\n",
    "\n",
    "print(f'x is {X}')\n",
    "print(f'\\n \\n \\n \\n')\n",
    "print(f'y is {y}')\n",
    "\n",
    "\n",
    "# split data into training and testing sets\n",
    "X_train, X_test, y_train, y_test = train_test_split(X, y, test_size=0.2)\n",
    "\n",
    "# create linear regression model\n",
    "model = LinearRegression()\n",
    "\n",
    "# train the model on training data\n",
    "model.fit(X_train, y_train)\n",
    "\n",
    "# make predictions on testing data\n",
    "y_pred = model.predict(X_test)\n",
    "\n",
    "# calculate mean squared error\n",
    "mse = mean_squared_error(y_test, y_pred)\n",
    "print('Mean squared error:', mse)"
   ]
  },
  {
   "cell_type": "code",
   "execution_count": 63,
   "id": "79e1e10a",
   "metadata": {},
   "outputs": [
    {
     "data": {
      "image/png": "[encoded data removed]",
      "text/plain": [
       "<Figure size 432x288 with 1 Axes>"
      ]
     },
     "metadata": {
      "needs_background": "light"
     },
     "output_type": "display_data"
    }
   ],
   "source": [
    "import matplotlib.pyplot as plt\n",
    "\n",
    "# plot predicted vs actual values\n",
    "plt.scatter(y_test, y_pred)\n",
    "plt.xlabel('Actual values')\n",
    "plt.ylabel('Predicted values')\n",
    "plt.title('Linear Regression Model')\n",
    "plt.show()"
   ]
  },
  {
   "cell_type": "code",
   "execution_count": 64,
   "id": "1e39155b",
   "metadata": {},
   "outputs": [
    {
     "data": {
      "image/png": "[encoded data removed]",
      "text/plain": [
       "<Figure size 432x288 with 1 Axes>"
      ]
     },
     "metadata": {
      "needs_background": "light"
     },
     "output_type": "display_data"
    }
   ],
   "source": [
    "# plot coefficients\n",
    "coef = pd.DataFrame(model.coef_, X.columns, columns=['Coefficient'])\n",
    "coef.plot(kind='bar')\n",
    "plt.title('Linear Regression Coefficients')\n",
    "plt.show()\n"
   ]
  },
  {
   "cell_type": "code",
   "execution_count": null,
   "id": "4f575104",
   "metadata": {},
   "outputs": [],
   "source": []
  }
 ],
 "metadata": {
  "kernelspec": {
   "display_name": "Python 3 (ipykernel)",
   "language": "python",
   "name": "python3"
  },
  "language_info": {
   "codemirror_mode": {
    "name": "ipython",
    "version": 3
   },
   "file_extension": ".py",
   "mimetype": "text/x-python",
   "name": "python",
   "nbconvert_exporter": "python",
   "pygments_lexer": "ipython3",
   "version": "3.10.6"
  }
 },
 "nbformat": 4,
 "nbformat_minor": 5
}
